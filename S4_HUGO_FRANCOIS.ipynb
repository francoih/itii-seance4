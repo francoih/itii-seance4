{
 "cells": [
  {
   "cell_type": "code",
   "execution_count": 9,
   "metadata": {},
   "outputs": [
    {
     "name": "stdout",
     "output_type": "stream",
     "text": [
      "0.02\n",
      "0.03\n",
      "0.04\n",
      "0.05\n",
      "0.06\n",
      "0.07\n",
      "0.08\n",
      "0.09\n",
      "0.1\n",
      "0.11\n",
      "0.12\n",
      "0.13\n",
      "0.14\n",
      "0.15\n",
      "0.16\n",
      "0.17\n",
      "0.18\n",
      "0.19\n",
      "0.2\n",
      "0.21\n",
      "0.22\n",
      "0.23\n",
      "0.24\n",
      "0.25\n",
      "0.26\n",
      "0.27\n",
      "0.28\n",
      "0.29\n",
      "0.3\n",
      "0.31\n",
      "0.32\n",
      "0.33\n",
      "0.34\n",
      "0.35\n",
      "0.36\n",
      "0.37\n",
      "0.38\n",
      "0.39\n",
      "0.4\n",
      "0.41\n",
      "0.42\n",
      "0.43\n",
      "0.44\n",
      "0.45\n",
      "0.46\n",
      "0.47\n",
      "0.48\n",
      "0.49\n",
      "0.5\n",
      "0.51\n",
      "0.52\n",
      "0.53\n",
      "0.54\n",
      "0.55\n",
      "0.56\n",
      "0.57\n",
      "0.58\n",
      "0.59\n",
      "0.6\n",
      "0.61\n",
      "0.62\n",
      "0.63\n",
      "0.64\n",
      "0.65\n",
      "0.66\n",
      "0.67\n",
      "0.68\n",
      "0.69\n",
      "0.7\n",
      "0.71\n",
      "0.72\n",
      "0.73\n",
      "0.74\n",
      "0.75\n",
      "0.76\n",
      "0.77\n",
      "0.78\n",
      "0.79\n",
      "0.8\n",
      "0.81\n",
      "0.82\n",
      "0.83\n",
      "0.84\n",
      "0.85\n",
      "0.86\n",
      "0.87\n",
      "0.88\n",
      "0.89\n",
      "0.9\n",
      "0.91\n",
      "0.92\n",
      "0.93\n",
      "0.94\n",
      "0.95\n",
      "0.96\n",
      "0.97\n",
      "0.98\n",
      "0.99\n",
      "1.0\n",
      "1.01\n",
      "1.02\n",
      "1.03\n",
      "1.04\n",
      "1.05\n",
      "1.06\n",
      "1.07\n",
      "1.08\n",
      "1.09\n",
      "1.1\n",
      "1.11\n",
      "1.12\n",
      "1.13\n",
      "1.14\n",
      "1.15\n",
      "1.16\n",
      "1.17\n",
      "1.18\n",
      "1.19\n",
      "1.2\n",
      "1.21\n",
      "1.22\n",
      "1.23\n",
      "1.24\n",
      "1.25\n",
      "1.26\n",
      "1.27\n",
      "1.28\n",
      "1.29\n",
      "1.3\n",
      "1.31\n",
      "1.32\n",
      "1.33\n",
      "1.34\n",
      "1.35\n",
      "1.36\n",
      "1.37\n",
      "1.38\n",
      "1.39\n",
      "1.4\n",
      "1.41\n",
      "1.42\n",
      "1.43\n",
      "1.44\n",
      "1.45\n",
      "1.46\n",
      "1.47\n",
      "1.48\n",
      "1.49\n",
      "1.5\n",
      "1.51\n",
      "1.52\n",
      "1.53\n",
      "1.54\n",
      "1.55\n",
      "1.56\n",
      "1.57\n",
      "1.58\n",
      "1.59\n",
      "1.6\n",
      "1.61\n",
      "1.62\n",
      "1.63\n",
      "1.64\n",
      "1.65\n",
      "1.66\n",
      "1.67\n",
      "1.68\n",
      "1.69\n",
      "1.7\n",
      "1.71\n",
      "1.72\n",
      "1.73\n",
      "1.74\n",
      "1.75\n",
      "1.76\n",
      "1.77\n",
      "1.78\n",
      "1.79\n",
      "1.8\n",
      "1.81\n",
      "1.82\n",
      "1.83\n",
      "1.84\n",
      "1.85\n",
      "1.86\n",
      "1.87\n",
      "1.88\n",
      "1.89\n",
      "1.9\n",
      "1.91\n",
      "1.92\n",
      "1.93\n",
      "1.94\n",
      "1.95\n",
      "1.96\n",
      "1.97\n",
      "1.98\n",
      "1.99\n",
      "2.0\n"
     ]
    }
   ],
   "source": [
    "#Ex1\n",
    "import numpy as np\n",
    "def racine(b,n,e):\n",
    "    r = e\n",
    "    while r**n < b:\n",
    "        r+=e\n",
    "        print(np.round(r,2))\n",
    "\n",
    "racine(16,4,0.01)"
   ]
  },
  {
   "cell_type": "code",
   "execution_count": 12,
   "metadata": {},
   "outputs": [
    {
     "name": "stdout",
     "output_type": "stream",
     "text": [
      "Solutions de  5 x^2 + 6 x + 1 = 0\n",
      "Deux solutions : -1.0 et -0.2\n",
      "En -1.0 : 0.0\n",
      "En -0.2 : -2.220446049250313e-16\n"
     ]
    }
   ],
   "source": [
    "#Ex2\n",
    "from math import sqrt\n",
    "\n",
    "def polynome(a, b, c, x):\n",
    "    print (\"En\", x, \":\", a * x * x + b * x + c)\n",
    "\n",
    "def racine(a, b, c):\n",
    "    print(\"Solutions de \", a, \"x^2 +\", b, \"x +\", c, \"= 0\")\n",
    "    if a == 0:\n",
    "        if b == 0:\n",
    "            if c == 0:\n",
    "                print (\"Tout r ́eel est solution\")\n",
    "            else :\n",
    "                print (\"Aucune solution\")\n",
    "        else :\n",
    "            x = (-c * 1.0) / b\n",
    "            print (\"Une solution :\", xpolynome(a, b, c, x))\n",
    "    else :\n",
    "        d = b * b - 4 * a * c\n",
    "    if(d == 0): \n",
    "        x = -b / (2.0 * a) \n",
    "        print (\"Une solution :\", xpolynome(a, b, c, x) )\n",
    "    elif(d > 0):\n",
    "        r = sqrt(d) \n",
    "        x1 = (-b - r) / (2.0 * a) \n",
    "        x2 = (-b + r) / (2.0 * a)\n",
    "        print (\"Deux solutions :\", x1, \"et\", x2)\n",
    "        polynome(a, b, c, x1) \n",
    "        polynome(a, b, c, x2)\n",
    "    else :\n",
    "        print (\"Aucune solution\")\n",
    "\n",
    "(racine(5,6,1))"
   ]
  },
  {
   "cell_type": "code",
   "execution_count": 13,
   "metadata": {},
   "outputs": [
    {
     "data": {
      "text/plain": [
       "2.8284271247461903"
      ]
     },
     "execution_count": 13,
     "metadata": {},
     "output_type": "execute_result"
    }
   ],
   "source": [
    "import math\n",
    "math.sqrt(8)"
   ]
  },
  {
   "cell_type": "code",
   "execution_count": 16,
   "metadata": {},
   "outputs": [
    {
     "data": {
      "image/png": "[encoded data removed]",
      "text/latex": [
       "$\\displaystyle 2 \\sqrt{3}$"
      ],
      "text/plain": [
       "2⋅√3"
      ]
     },
     "execution_count": 16,
     "metadata": {},
     "output_type": "execute_result"
    }
   ],
   "source": [
    "from sympy import *\n",
    "\n",
    "init_printing() #best pretty printing, use the init_printing()\n",
    "sqrt(12)"
   ]
  },
  {
   "cell_type": "code",
   "execution_count": 19,
   "metadata": {},
   "outputs": [
    {
     "data": {
      "image/png": "[encoded data removed]",
      "text/latex": [
       "$\\displaystyle \\frac{\\varepsilon}{4} + x^{2} + 4 x + 4 y$"
      ],
      "text/plain": [
       "\\varepsilon    2            \n",
       "─────────── + x  + 4⋅x + 4⋅y\n",
       "     4                      "
      ]
     },
     "execution_count": 19,
     "metadata": {},
     "output_type": "execute_result"
    }
   ],
   "source": [
    "#Ex3\n",
    "import sympy as sp\n",
    "x = sp.Symbol(\"x\")# definit le symbole x\n",
    "y = sp.Symbol(\"y\", real=True)# définit la variable réelle y\n",
    "e = sp.Symbol(r\"\\varepsilon\", real=True, positive=True)# définit epsilon positif\n",
    "\n",
    "x + 2*y + e/4 + x**2 + 3*x + 2*y"
   ]
  },
  {
   "cell_type": "code",
   "execution_count": 20,
   "metadata": {},
   "outputs": [
    {
     "data": {
      "image/png": "[encoded data removed]",
      "text/latex": [
       "$\\displaystyle \\left[ - \\frac{1}{6} + \\frac{\\sqrt{19}}{6}, \\  - \\frac{\\sqrt{19}}{6} - \\frac{1}{6}\\right]$"
      ],
      "text/plain": [
       "⎡  1   √19    √19   1⎤\n",
       "⎢- ─ + ───, - ─── - ─⎥\n",
       "⎣  6    6      6    6⎦"
      ]
     },
     "execution_count": 20,
     "metadata": {},
     "output_type": "execute_result"
    }
   ],
   "source": [
    "#Ex3 Q1 Partie 1 (=degré 2)\n",
    "import sympy as sp\n",
    "x = sp.Symbol(\"x\")# definit le symbole x\n",
    "y = sp.Symbol(\"y\", real=True)# définit la variable réelle y\n",
    "e = sp.Symbol(r\"\\varepsilon\", real=True, positive=True)# définit epsilon positif\n",
    "\n",
    "x + 2*y + e/4 + x**2 + 3*x + 2*y\n",
    "\n",
    "solve(6*x*x +2*x-3,x)"
   ]
  },
  {
   "cell_type": "code",
   "execution_count": 21,
   "metadata": {},
   "outputs": [
    {
     "data": {
      "image/png": "[encoded data removed]",
      "text/latex": [
       "$\\displaystyle \\left[ - \\frac{1}{3}, \\  - \\frac{\\sqrt{2}}{2}, \\  \\frac{\\sqrt{2}}{2}\\right]$"
      ],
      "text/plain": [
       "⎡      -√2   √2⎤\n",
       "⎢-1/3, ────, ──⎥\n",
       "⎣       2    2 ⎦"
      ]
     },
     "execution_count": 21,
     "metadata": {},
     "output_type": "execute_result"
    }
   ],
   "source": [
    "#Ex3 Q1 Partie 2 (=degré 3)\n",
    "import sympy as sp\n",
    "x = sp.Symbol(\"x\")# definit le symbole x\n",
    "y = sp.Symbol(\"y\", real=True)# définit la variable réelle y\n",
    "e = sp.Symbol(r\"\\varepsilon\", real=True, positive=True)# définit epsilon positif\n",
    "\n",
    "x + 2*y + e/4 + x**2 + 3*x + 2*y\n",
    "\n",
    "solve(6*x*x*x +2*x*x-3*x-1,x)"
   ]
  },
  {
   "cell_type": "code",
   "execution_count": null,
   "metadata": {},
   "outputs": [],
   "source": [
    "#Ex3 Q2\n"
   ]
  }
 ],
 "metadata": {
  "kernelspec": {
   "display_name": "Python 3",
   "language": "python",
   "name": "python3"
  },
  "language_info": {
   "codemirror_mode": {
    "name": "ipython",
    "version": 3
   },
   "file_extension": ".py",
   "mimetype": "text/x-python",
   "name": "python",
   "nbconvert_exporter": "python",
   "pygments_lexer": "ipython3",
   "version": "3.7.6"
  }
 },
 "nbformat": 4,
 "nbformat_minor": 4
}
